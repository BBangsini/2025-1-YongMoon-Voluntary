{
  "nbformat": 4,
  "nbformat_minor": 0,
  "metadata": {
    "colab": {
      "provenance": []
    },
    "kernelspec": {
      "name": "python3",
      "display_name": "Python 3"
    },
    "language_info": {
      "name": "python"
    }
  },
  "cells": [
    {
      "cell_type": "code",
      "execution_count": 1,
      "metadata": {
        "colab": {
          "base_uri": "https://localhost:8080/"
        },
        "id": "lZxl2YQuHp-x",
        "outputId": "58e8b33b-f102-4333-b1cd-46f1a417bd1e"
      },
      "outputs": [
        {
          "output_type": "stream",
          "name": "stdout",
          "text": [
            "[[1, 2], [3, 4]]\n",
            "tensor([[1, 2],\n",
            "        [3, 4]])\n"
          ]
        }
      ],
      "source": [
        "import torch\n",
        "\n",
        "data = [[1,2], [3, 4]]\n",
        "x_data = torch.tensor(data)\n",
        "print(data)\n",
        "print(x_data)"
      ]
    },
    {
      "cell_type": "code",
      "source": [
        "tensor = x_data\n",
        "\n",
        "tensor[:,1] = 0\n",
        "print(tensor)\n",
        "\n",
        "y1 = tensor @ tensor.T\n",
        "y2 = tensor.matmul(tensor.T)\n",
        "\n",
        "print(y1)\n",
        "print(y2)"
      ],
      "metadata": {
        "colab": {
          "base_uri": "https://localhost:8080/"
        },
        "id": "kgtZIlKxIZ7i",
        "outputId": "bf67b7b6-4eb7-496d-e27f-b05eaadd69c6"
      },
      "execution_count": 4,
      "outputs": [
        {
          "output_type": "stream",
          "name": "stdout",
          "text": [
            "tensor([[1, 0],\n",
            "        [3, 0]])\n",
            "tensor([[1, 3],\n",
            "        [3, 9]])\n",
            "tensor([[1, 3],\n",
            "        [3, 9]])\n"
          ]
        }
      ]
    },
    {
      "cell_type": "code",
      "source": [],
      "metadata": {
        "id": "k7D96o8sLRoz"
      },
      "execution_count": null,
      "outputs": []
    }
  ]
}